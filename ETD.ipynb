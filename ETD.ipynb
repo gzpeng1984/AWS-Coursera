{
  "cells": [
    {
      "cell_type": "markdown",
      "metadata": {
        "id": "view-in-github",
        "colab_type": "text"
      },
      "source": [
        "<a href=\"https://colab.research.google.com/github/gzpeng1984/AWS-Coursera/blob/main/ETD.ipynb\" target=\"_parent\"><img src=\"https://colab.research.google.com/assets/colab-badge.svg\" alt=\"Open In Colab\"/></a>"
      ]
    },
    {
      "cell_type": "code",
      "execution_count": null,
      "metadata": {
        "id": "vLFudh_W9Wh9",
        "outputId": "054271da-c16e-4dba-fdb6-961698f91339"
      },
      "outputs": [
        {
          "name": "stdout",
          "output_type": "stream",
          "text": [
            "hello heaven\n"
          ]
        }
      ],
      "source": [
        "print(\"hello heaven\")"
      ]
    },
    {
      "cell_type": "markdown",
      "metadata": {
        "id": "cvq5wyI_9Wh-"
      },
      "source": [
        "# This is for the Cloud Computing Course\n",
        "    It sounds fun\n",
        "    ```\n",
        "    > The universes are parallel\n",
        "    ```"
      ]
    },
    {
      "cell_type": "markdown",
      "metadata": {
        "id": "d2BoBTAc9Wh_"
      },
      "source": [
        "Use `git status` to list all new or modified files that haven't yet been committed.\n"
      ]
    },
    {
      "cell_type": "markdown",
      "metadata": {
        "id": "S9taBBBU9Wh_"
      },
      "source": [
        "```\n",
        "Test Different Cells\n",
        "```"
      ]
    },
    {
      "cell_type": "code",
      "execution_count": null,
      "metadata": {
        "id": "Y4PBsMxr9Wh_"
      },
      "outputs": [],
      "source": []
    }
  ],
  "metadata": {
    "kernelspec": {
      "display_name": "Python 3",
      "language": "python",
      "name": "python3"
    },
    "language_info": {
      "codemirror_mode": {
        "name": "ipython",
        "version": 3
      },
      "file_extension": ".py",
      "mimetype": "text/x-python",
      "name": "python",
      "nbconvert_exporter": "python",
      "pygments_lexer": "ipython3",
      "version": "3.7.6"
    },
    "colab": {
      "provenance": [],
      "include_colab_link": true
    }
  },
  "nbformat": 4,
  "nbformat_minor": 0
}